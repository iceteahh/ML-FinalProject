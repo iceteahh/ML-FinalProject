{
  "nbformat": 4,
  "nbformat_minor": 0,
  "metadata": {
    "colab": {
      "name": "FinalProject.ipynb",
      "version": "0.3.2",
      "provenance": [],
      "toc_visible": true,
      "include_colab_link": true
    },
    "kernelspec": {
      "name": "python3",
      "display_name": "Python 3"
    }
  },
  "cells": [
    {
      "cell_type": "markdown",
      "metadata": {
        "id": "view-in-github",
        "colab_type": "text"
      },
      "source": [
        "<a href=\"https://colab.research.google.com/github/iceteahh/ML-FinalProject/blob/master/FinalProject.ipynb\" target=\"_parent\"><img src=\"https://colab.research.google.com/assets/colab-badge.svg\" alt=\"Open In Colab\"/></a>"
      ]
    },
    {
      "metadata": {
        "id": "g8dHdihFuzcI",
        "colab_type": "code",
        "colab": {}
      },
      "cell_type": "code",
      "source": [
        "import pandas as pd\n",
        "import numpy as np\n",
        "import seaborn as sns\n",
        "import matplotlib.pyplot as plt \n",
        "%matplotlib inline\n",
        "from sklearn.model_selection import train_test_split\n",
        "from sklearn.feature_extraction.text import TfidfVectorizer\n",
        "from sklearn.linear_model import LinearRegression\n",
        "from sklearn.preprocessing import PolynomialFeatures\n",
        "from sklearn.linear_model import LogisticRegression\n",
        "from sklearn.metrics import accuracy_score, confusion_matrix, classification_report\n",
        "from sklearn.metrics import confusion_matrix\n",
        "from sklearn.ensemble import RandomForestClassifier"
      ],
      "execution_count": 0,
      "outputs": []
    },
    {
      "metadata": {
        "id": "xiXRHrfCu0CZ",
        "colab_type": "code",
        "outputId": "713c3dbc-3a2e-402d-f0ae-390235e221a7",
        "colab": {
          "base_uri": "https://localhost:8080/",
          "height": 34
        }
      },
      "cell_type": "code",
      "source": [
        "from google.colab import drive\n",
        "drive.mount('/content/gdrive')"
      ],
      "execution_count": 392,
      "outputs": [
        {
          "output_type": "stream",
          "text": [
            "Drive already mounted at /content/gdrive; to attempt to forcibly remount, call drive.mount(\"/content/gdrive\", force_remount=True).\n"
          ],
          "name": "stdout"
        }
      ]
    },
    {
      "metadata": {
        "id": "f9WtT4B9HDyN",
        "colab_type": "text"
      },
      "cell_type": "markdown",
      "source": [
        "# Rea Data"
      ]
    },
    {
      "metadata": {
        "id": "WjHx-PGZvDSI",
        "colab_type": "code",
        "colab": {}
      },
      "cell_type": "code",
      "source": [
        "data = pd.read_csv('gdrive/My Drive/MachineLearning/FinalProject/elt_price_lead_4300.csv')"
      ],
      "execution_count": 0,
      "outputs": []
    },
    {
      "metadata": {
        "id": "1z9YLSu2xP3p",
        "colab_type": "code",
        "outputId": "858ca24e-1748-4e71-aaaf-dfc7ec0a3076",
        "colab": {
          "base_uri": "https://localhost:8080/",
          "height": 476
        }
      },
      "cell_type": "code",
      "source": [
        "data.info()"
      ],
      "execution_count": 394,
      "outputs": [
        {
          "output_type": "stream",
          "text": [
            "<class 'pandas.core.frame.DataFrame'>\n",
            "RangeIndex: 4387 entries, 0 to 4386\n",
            "Data columns (total 22 columns):\n",
            "ad_id              4387 non-null int64\n",
            "list_id            4387 non-null int64\n",
            "subject            4387 non-null object\n",
            "body               4373 non-null object\n",
            "orig_list_time     4387 non-null object\n",
            "price              4386 non-null float64\n",
            "mobile_model       4387 non-null int64\n",
            "region_v2          4376 non-null float64\n",
            "area               4387 non-null int64\n",
            "area_v2            4376 non-null float64\n",
            "condition_ad       3270 non-null float64\n",
            "elt_condition      4386 non-null float64\n",
            "mobile_capacity    4310 non-null float64\n",
            "mobile_color       4387 non-null int64\n",
            "mobile_type        4387 non-null int64\n",
            "elt_warranty       1196 non-null float64\n",
            "ward               3315 non-null float64\n",
            "mobile_brand       4387 non-null int64\n",
            "giveaway           1360 non-null float64\n",
            "elt_lock           63 non-null float64\n",
            "listing_adviews    4375 non-null float64\n",
            "listing_leads      4375 non-null float64\n",
            "dtypes: float64(12), int64(7), object(3)\n",
            "memory usage: 754.1+ KB\n"
          ],
          "name": "stdout"
        }
      ]
    },
    {
      "metadata": {
        "id": "OJqdmA56FnRL",
        "colab_type": "code",
        "outputId": "f438dc12-f55f-4d66-9a00-540e4061b594",
        "colab": {
          "base_uri": "https://localhost:8080/",
          "height": 916
        }
      },
      "cell_type": "code",
      "source": [
        "data.head()"
      ],
      "execution_count": 395,
      "outputs": [
        {
          "output_type": "execute_result",
          "data": {
            "text/html": [
              "<div>\n",
              "<style scoped>\n",
              "    .dataframe tbody tr th:only-of-type {\n",
              "        vertical-align: middle;\n",
              "    }\n",
              "\n",
              "    .dataframe tbody tr th {\n",
              "        vertical-align: top;\n",
              "    }\n",
              "\n",
              "    .dataframe thead th {\n",
              "        text-align: right;\n",
              "    }\n",
              "</style>\n",
              "<table border=\"1\" class=\"dataframe\">\n",
              "  <thead>\n",
              "    <tr style=\"text-align: right;\">\n",
              "      <th></th>\n",
              "      <th>ad_id</th>\n",
              "      <th>list_id</th>\n",
              "      <th>subject</th>\n",
              "      <th>body</th>\n",
              "      <th>orig_list_time</th>\n",
              "      <th>price</th>\n",
              "      <th>mobile_model</th>\n",
              "      <th>region_v2</th>\n",
              "      <th>area</th>\n",
              "      <th>area_v2</th>\n",
              "      <th>...</th>\n",
              "      <th>mobile_capacity</th>\n",
              "      <th>mobile_color</th>\n",
              "      <th>mobile_type</th>\n",
              "      <th>elt_warranty</th>\n",
              "      <th>ward</th>\n",
              "      <th>mobile_brand</th>\n",
              "      <th>giveaway</th>\n",
              "      <th>elt_lock</th>\n",
              "      <th>listing_adviews</th>\n",
              "      <th>listing_leads</th>\n",
              "    </tr>\n",
              "  </thead>\n",
              "  <tbody>\n",
              "    <tr>\n",
              "      <th>0</th>\n",
              "      <td>72361917</td>\n",
              "      <td>48884773</td>\n",
              "      <td>Oppo F1s giao lưu đt 2 sim cao hơn bù tiền</td>\n",
              "      <td>Cần giao lưu oppo F1s chính hãng hết bảo hành ...</td>\n",
              "      <td>2018-08-01 12:11:32</td>\n",
              "      <td>2200000.0</td>\n",
              "      <td>118</td>\n",
              "      <td>13000.0</td>\n",
              "      <td>102</td>\n",
              "      <td>13102.0</td>\n",
              "      <td>...</td>\n",
              "      <td>4.0</td>\n",
              "      <td>7</td>\n",
              "      <td>1</td>\n",
              "      <td>NaN</td>\n",
              "      <td>NaN</td>\n",
              "      <td>11</td>\n",
              "      <td>0.0</td>\n",
              "      <td>NaN</td>\n",
              "      <td>59.0</td>\n",
              "      <td>25.0</td>\n",
              "    </tr>\n",
              "    <tr>\n",
              "      <th>1</th>\n",
              "      <td>72375233</td>\n",
              "      <td>48894232</td>\n",
              "      <td>Nokia 8 Bh 3/2019 ( Fix tẹt ga trong hôm nay)</td>\n",
              "      <td>Em cần bán e nokia 8 máy đẹp và chính hãng nhé...</td>\n",
              "      <td>2018-08-01 15:58:55</td>\n",
              "      <td>6000000.0</td>\n",
              "      <td>113</td>\n",
              "      <td>13000.0</td>\n",
              "      <td>112</td>\n",
              "      <td>13112.0</td>\n",
              "      <td>...</td>\n",
              "      <td>5.0</td>\n",
              "      <td>6</td>\n",
              "      <td>1</td>\n",
              "      <td>NaN</td>\n",
              "      <td>NaN</td>\n",
              "      <td>10</td>\n",
              "      <td>NaN</td>\n",
              "      <td>NaN</td>\n",
              "      <td>33.0</td>\n",
              "      <td>4.0</td>\n",
              "    </tr>\n",
              "    <tr>\n",
              "      <th>2</th>\n",
              "      <td>72385652</td>\n",
              "      <td>48902681</td>\n",
              "      <td>Iphone 7 plus</td>\n",
              "      <td>máy quốc tế nhé.  zin từ trong ra ngoài . Bao ...</td>\n",
              "      <td>2018-08-01 20:55:39</td>\n",
              "      <td>9600000.0</td>\n",
              "      <td>12</td>\n",
              "      <td>13000.0</td>\n",
              "      <td>113</td>\n",
              "      <td>13113.0</td>\n",
              "      <td>...</td>\n",
              "      <td>4.0</td>\n",
              "      <td>7</td>\n",
              "      <td>1</td>\n",
              "      <td>NaN</td>\n",
              "      <td>NaN</td>\n",
              "      <td>1</td>\n",
              "      <td>0.0</td>\n",
              "      <td>NaN</td>\n",
              "      <td>190.0</td>\n",
              "      <td>14.0</td>\n",
              "    </tr>\n",
              "    <tr>\n",
              "      <th>3</th>\n",
              "      <td>72395136</td>\n",
              "      <td>48909454</td>\n",
              "      <td>iphong 6s 64gb qtế zin 98% có giao lưu</td>\n",
              "      <td>dư sài cần bán hoạc giao lưu iphone 6s 64gb bả...</td>\n",
              "      <td>2018-08-02 09:01:37</td>\n",
              "      <td>5150000.0</td>\n",
              "      <td>9</td>\n",
              "      <td>13000.0</td>\n",
              "      <td>117</td>\n",
              "      <td>13117.0</td>\n",
              "      <td>...</td>\n",
              "      <td>5.0</td>\n",
              "      <td>3</td>\n",
              "      <td>1</td>\n",
              "      <td>NaN</td>\n",
              "      <td>NaN</td>\n",
              "      <td>1</td>\n",
              "      <td>NaN</td>\n",
              "      <td>NaN</td>\n",
              "      <td>36.0</td>\n",
              "      <td>0.0</td>\n",
              "    </tr>\n",
              "    <tr>\n",
              "      <th>4</th>\n",
              "      <td>72410071</td>\n",
              "      <td>48920286</td>\n",
              "      <td>Xiaomi redmi s2 máy đẹp như mới bảo hành lâu</td>\n",
              "      <td>Máy đẹp như mới. Nguyên hộp còn bảo hành lâu</td>\n",
              "      <td>2018-08-02 13:02:27</td>\n",
              "      <td>3000000.0</td>\n",
              "      <td>160</td>\n",
              "      <td>13000.0</td>\n",
              "      <td>97</td>\n",
              "      <td>13097.0</td>\n",
              "      <td>...</td>\n",
              "      <td>4.0</td>\n",
              "      <td>4</td>\n",
              "      <td>1</td>\n",
              "      <td>2.0</td>\n",
              "      <td>NaN</td>\n",
              "      <td>15</td>\n",
              "      <td>0.0</td>\n",
              "      <td>NaN</td>\n",
              "      <td>42.0</td>\n",
              "      <td>1.0</td>\n",
              "    </tr>\n",
              "  </tbody>\n",
              "</table>\n",
              "<p>5 rows × 22 columns</p>\n",
              "</div>"
            ],
            "text/plain": [
              "      ad_id   list_id                                        subject  \\\n",
              "0  72361917  48884773     Oppo F1s giao lưu đt 2 sim cao hơn bù tiền   \n",
              "1  72375233  48894232  Nokia 8 Bh 3/2019 ( Fix tẹt ga trong hôm nay)   \n",
              "2  72385652  48902681                                  Iphone 7 plus   \n",
              "3  72395136  48909454         iphong 6s 64gb qtế zin 98% có giao lưu   \n",
              "4  72410071  48920286   Xiaomi redmi s2 máy đẹp như mới bảo hành lâu   \n",
              "\n",
              "                                                body       orig_list_time  \\\n",
              "0  Cần giao lưu oppo F1s chính hãng hết bảo hành ...  2018-08-01 12:11:32   \n",
              "1  Em cần bán e nokia 8 máy đẹp và chính hãng nhé...  2018-08-01 15:58:55   \n",
              "2  máy quốc tế nhé.  zin từ trong ra ngoài . Bao ...  2018-08-01 20:55:39   \n",
              "3  dư sài cần bán hoạc giao lưu iphone 6s 64gb bả...  2018-08-02 09:01:37   \n",
              "4       Máy đẹp như mới. Nguyên hộp còn bảo hành lâu  2018-08-02 13:02:27   \n",
              "\n",
              "       price  mobile_model  region_v2  area  area_v2      ...        \\\n",
              "0  2200000.0           118    13000.0   102  13102.0      ...         \n",
              "1  6000000.0           113    13000.0   112  13112.0      ...         \n",
              "2  9600000.0            12    13000.0   113  13113.0      ...         \n",
              "3  5150000.0             9    13000.0   117  13117.0      ...         \n",
              "4  3000000.0           160    13000.0    97  13097.0      ...         \n",
              "\n",
              "   mobile_capacity  mobile_color  mobile_type  elt_warranty  ward  \\\n",
              "0              4.0             7            1           NaN   NaN   \n",
              "1              5.0             6            1           NaN   NaN   \n",
              "2              4.0             7            1           NaN   NaN   \n",
              "3              5.0             3            1           NaN   NaN   \n",
              "4              4.0             4            1           2.0   NaN   \n",
              "\n",
              "   mobile_brand  giveaway  elt_lock  listing_adviews  listing_leads  \n",
              "0            11       0.0       NaN             59.0           25.0  \n",
              "1            10       NaN       NaN             33.0            4.0  \n",
              "2             1       0.0       NaN            190.0           14.0  \n",
              "3             1       NaN       NaN             36.0            0.0  \n",
              "4            15       0.0       NaN             42.0            1.0  \n",
              "\n",
              "[5 rows x 22 columns]"
            ]
          },
          "metadata": {
            "tags": []
          },
          "execution_count": 395
        }
      ]
    },
    {
      "metadata": {
        "id": "hF1CW4F2ytAd",
        "colab_type": "code",
        "outputId": "f556105f-f099-4a82-80cb-1d13aba72b58",
        "colab": {
          "base_uri": "https://localhost:8080/",
          "height": 476
        }
      },
      "cell_type": "code",
      "source": [
        "data.info()"
      ],
      "execution_count": 396,
      "outputs": [
        {
          "output_type": "stream",
          "text": [
            "<class 'pandas.core.frame.DataFrame'>\n",
            "RangeIndex: 4387 entries, 0 to 4386\n",
            "Data columns (total 22 columns):\n",
            "ad_id              4387 non-null int64\n",
            "list_id            4387 non-null int64\n",
            "subject            4387 non-null object\n",
            "body               4373 non-null object\n",
            "orig_list_time     4387 non-null object\n",
            "price              4386 non-null float64\n",
            "mobile_model       4387 non-null int64\n",
            "region_v2          4376 non-null float64\n",
            "area               4387 non-null int64\n",
            "area_v2            4376 non-null float64\n",
            "condition_ad       3270 non-null float64\n",
            "elt_condition      4386 non-null float64\n",
            "mobile_capacity    4310 non-null float64\n",
            "mobile_color       4387 non-null int64\n",
            "mobile_type        4387 non-null int64\n",
            "elt_warranty       1196 non-null float64\n",
            "ward               3315 non-null float64\n",
            "mobile_brand       4387 non-null int64\n",
            "giveaway           1360 non-null float64\n",
            "elt_lock           63 non-null float64\n",
            "listing_adviews    4375 non-null float64\n",
            "listing_leads      4375 non-null float64\n",
            "dtypes: float64(12), int64(7), object(3)\n",
            "memory usage: 754.1+ KB\n"
          ],
          "name": "stdout"
        }
      ]
    },
    {
      "metadata": {
        "id": "I841BAyZHPLY",
        "colab_type": "text"
      },
      "cell_type": "markdown",
      "source": [
        "# Reshape Data"
      ]
    },
    {
      "metadata": {
        "id": "bapJfIPvQXji",
        "colab_type": "code",
        "colab": {}
      },
      "cell_type": "code",
      "source": [
        "data = data[data['region_v2'] == 13000]\n",
        "data = data.drop(columns=['ad_id', 'list_id', 'listing_leads', 'body', 'region_v2', 'area_v2', 'ward', 'elt_condition', 'mobile_color', 'mobile_type', 'elt_warranty', 'elt_lock', 'mobile_brand'])"
      ],
      "execution_count": 0,
      "outputs": []
    },
    {
      "metadata": {
        "id": "6fj2XaTsF7Xc",
        "colab_type": "text"
      },
      "cell_type": "markdown",
      "source": [
        "**Handle datetime**"
      ]
    },
    {
      "metadata": {
        "id": "L1-k1ej3OrT3",
        "colab_type": "text"
      },
      "cell_type": "markdown",
      "source": [
        "https://www.researchgate.net/post/How_to_append_TF-IDF_vector_into_pandas_dataframe"
      ]
    },
    {
      "metadata": {
        "id": "ELeB8ZDBF6yD",
        "colab_type": "code",
        "colab": {}
      },
      "cell_type": "code",
      "source": [
        "data['orig_list_time'] = pd.to_datetime(data['orig_list_time'], errors='coerce')\n",
        "data['day_of_week'] = data['orig_list_time'].dt.dayofweek\n",
        "data['hour'] = data['orig_list_time'].dt.hour\n",
        "data = data.drop(columns=['orig_list_time'])"
      ],
      "execution_count": 0,
      "outputs": []
    },
    {
      "metadata": {
        "id": "M6LBR7ESk9nx",
        "colab_type": "code",
        "outputId": "a302963f-586b-4611-9c30-23a0555921a5",
        "colab": {
          "base_uri": "https://localhost:8080/",
          "height": 272
        }
      },
      "cell_type": "code",
      "source": [
        "data.info()"
      ],
      "execution_count": 399,
      "outputs": [
        {
          "output_type": "stream",
          "text": [
            "<class 'pandas.core.frame.DataFrame'>\n",
            "Int64Index: 4375 entries, 0 to 4386\n",
            "Data columns (total 10 columns):\n",
            "subject            4375 non-null object\n",
            "price              4374 non-null float64\n",
            "mobile_model       4375 non-null int64\n",
            "area               4375 non-null int64\n",
            "condition_ad       3258 non-null float64\n",
            "mobile_capacity    4298 non-null float64\n",
            "giveaway           1357 non-null float64\n",
            "listing_adviews    4363 non-null float64\n",
            "day_of_week        4375 non-null int64\n",
            "hour               4375 non-null int64\n",
            "dtypes: float64(5), int64(4), object(1)\n",
            "memory usage: 376.0+ KB\n"
          ],
          "name": "stdout"
        }
      ]
    },
    {
      "metadata": {
        "id": "M51qA17MGAD7",
        "colab_type": "text"
      },
      "cell_type": "markdown",
      "source": [
        "**Handle NAN**"
      ]
    },
    {
      "metadata": {
        "id": "OHZdj2hlGGcJ",
        "colab_type": "code",
        "outputId": "703f81ef-0e09-45ad-eef0-5f558ca4c869",
        "colab": {
          "base_uri": "https://localhost:8080/",
          "height": 204
        }
      },
      "cell_type": "code",
      "source": [
        "data.isna().any()"
      ],
      "execution_count": 400,
      "outputs": [
        {
          "output_type": "execute_result",
          "data": {
            "text/plain": [
              "subject            False\n",
              "price               True\n",
              "mobile_model       False\n",
              "area               False\n",
              "condition_ad        True\n",
              "mobile_capacity     True\n",
              "giveaway            True\n",
              "listing_adviews     True\n",
              "day_of_week        False\n",
              "hour               False\n",
              "dtype: bool"
            ]
          },
          "metadata": {
            "tags": []
          },
          "execution_count": 400
        }
      ]
    },
    {
      "metadata": {
        "id": "EHXcXh-kGWNK",
        "colab_type": "code",
        "colab": {}
      },
      "cell_type": "code",
      "source": [
        "data = data.drop(columns=['giveaway'])\n",
        "data['price'] = data['price'].fillna(0)\n",
        "data['mobile_model'] = data['mobile_model'].fillna(0)\n",
        "data['condition_ad'] = data['condition_ad'].fillna(0)\n",
        "data['listing_adviews'] = data['listing_adviews'].fillna(0)\n",
        "data['mobile_capacity'] = data['mobile_capacity'].fillna(0)\n",
        "data['subject'] = data['subject'].fillna('')"
      ],
      "execution_count": 0,
      "outputs": []
    },
    {
      "metadata": {
        "id": "9h-U51YiGRWL",
        "colab_type": "code",
        "outputId": "3cc6818f-5c8a-4b05-e8ba-7e45bc246ef1",
        "colab": {
          "base_uri": "https://localhost:8080/",
          "height": 187
        }
      },
      "cell_type": "code",
      "source": [
        "data.isna().any()"
      ],
      "execution_count": 402,
      "outputs": [
        {
          "output_type": "execute_result",
          "data": {
            "text/plain": [
              "subject            False\n",
              "price              False\n",
              "mobile_model       False\n",
              "area               False\n",
              "condition_ad       False\n",
              "mobile_capacity    False\n",
              "listing_adviews    False\n",
              "day_of_week        False\n",
              "hour               False\n",
              "dtype: bool"
            ]
          },
          "metadata": {
            "tags": []
          },
          "execution_count": 402
        }
      ]
    },
    {
      "metadata": {
        "id": "L5FmQFmSYmy0",
        "colab_type": "code",
        "outputId": "ca6f516c-b64e-437f-d136-d685385e4019",
        "colab": {
          "base_uri": "https://localhost:8080/",
          "height": 255
        }
      },
      "cell_type": "code",
      "source": [
        "data.info()"
      ],
      "execution_count": 403,
      "outputs": [
        {
          "output_type": "stream",
          "text": [
            "<class 'pandas.core.frame.DataFrame'>\n",
            "Int64Index: 4375 entries, 0 to 4386\n",
            "Data columns (total 9 columns):\n",
            "subject            4375 non-null object\n",
            "price              4375 non-null float64\n",
            "mobile_model       4375 non-null int64\n",
            "area               4375 non-null int64\n",
            "condition_ad       4375 non-null float64\n",
            "mobile_capacity    4375 non-null float64\n",
            "listing_adviews    4375 non-null float64\n",
            "day_of_week        4375 non-null int64\n",
            "hour               4375 non-null int64\n",
            "dtypes: float64(4), int64(4), object(1)\n",
            "memory usage: 341.8+ KB\n"
          ],
          "name": "stdout"
        }
      ]
    },
    {
      "metadata": {
        "id": "OivDrfE1STGm",
        "colab_type": "code",
        "outputId": "306bb6b0-a52a-446b-9190-705f964f540c",
        "colab": {
          "base_uri": "https://localhost:8080/",
          "height": 347
        }
      },
      "cell_type": "code",
      "source": [
        "sns.distplot(data['listing_adviews'])"
      ],
      "execution_count": 404,
      "outputs": [
        {
          "output_type": "stream",
          "text": [
            "/usr/local/lib/python3.6/dist-packages/matplotlib/axes/_axes.py:6521: MatplotlibDeprecationWarning: \n",
            "The 'normed' kwarg was deprecated in Matplotlib 2.1 and will be removed in 3.1. Use 'density' instead.\n",
            "  alternative=\"'density'\", removal=\"3.1\")\n"
          ],
          "name": "stderr"
        },
        {
          "output_type": "execute_result",
          "data": {
            "text/plain": [
              "<matplotlib.axes._subplots.AxesSubplot at 0x7f9f9c2a5390>"
            ]
          },
          "metadata": {
            "tags": []
          },
          "execution_count": 404
        },
        {
          "output_type": "display_data",
          "data": {
            "image/png": "[encoded data removed]",
            "text/plain": [
              "<Figure size 432x288 with 1 Axes>"
            ]
          },
          "metadata": {
            "tags": []
          }
        }
      ]
    },
    {
      "metadata": {
        "id": "FTXjyZUrV2hp",
        "colab_type": "code",
        "outputId": "c9aa8997-fdf0-45da-fabc-a5a60b81199f",
        "colab": {
          "base_uri": "https://localhost:8080/",
          "height": 347
        }
      },
      "cell_type": "code",
      "source": [
        "sns.distplot(data['listing_adviews'][data['listing_adviews'] <= 200])"
      ],
      "execution_count": 405,
      "outputs": [
        {
          "output_type": "stream",
          "text": [
            "/usr/local/lib/python3.6/dist-packages/matplotlib/axes/_axes.py:6521: MatplotlibDeprecationWarning: \n",
            "The 'normed' kwarg was deprecated in Matplotlib 2.1 and will be removed in 3.1. Use 'density' instead.\n",
            "  alternative=\"'density'\", removal=\"3.1\")\n"
          ],
          "name": "stderr"
        },
        {
          "output_type": "execute_result",
          "data": {
            "text/plain": [
              "<matplotlib.axes._subplots.AxesSubplot at 0x7f9f9c24a1d0>"
            ]
          },
          "metadata": {
            "tags": []
          },
          "execution_count": 405
        },
        {
          "output_type": "display_data",
          "data": {
            "image/png": "[encoded data removed]",
            "text/plain": [
              "<Figure size 432x288 with 1 Axes>"
            ]
          },
          "metadata": {
            "tags": []
          }
        }
      ]
    },
    {
      "metadata": {
        "id": "mBViX-3dTWxo",
        "colab_type": "code",
        "outputId": "3b06238e-092d-442b-8fbf-10343a95a921",
        "colab": {
          "base_uri": "https://localhost:8080/",
          "height": 34
        }
      },
      "cell_type": "code",
      "source": [
        "data['price'].max()"
      ],
      "execution_count": 406,
      "outputs": [
        {
          "output_type": "execute_result",
          "data": {
            "text/plain": [
              "143000000.0"
            ]
          },
          "metadata": {
            "tags": []
          },
          "execution_count": 406
        }
      ]
    },
    {
      "metadata": {
        "id": "JrwbOYglYA9r",
        "colab_type": "code",
        "colab": {}
      },
      "cell_type": "code",
      "source": [
        "def f(row):\n",
        "  adviews = row['listing_adviews']\n",
        "  if(adviews <= 75):\n",
        "    return 0\n",
        "  elif(adviews > 57 and adviews <=150):\n",
        "    return 1\n",
        "  elif(adviews >150):\n",
        "    return 2\n",
        "\n",
        "data['labeled'] = data.apply(f, axis=1)"
      ],
      "execution_count": 0,
      "outputs": []
    },
    {
      "metadata": {
        "id": "4xJaaFBjdl56",
        "colab_type": "code",
        "colab": {}
      },
      "cell_type": "code",
      "source": [
        "data = data.drop(columns=['listing_adviews'])"
      ],
      "execution_count": 0,
      "outputs": []
    },
    {
      "metadata": {
        "id": "od2lRCJNNTp4",
        "colab_type": "code",
        "colab": {}
      },
      "cell_type": "code",
      "source": [
        "data_final = pd.get_dummies(data, columns=['day_of_week', 'hour', 'mobile_model', 'condition_ad', 'mobile_capacity', 'area'])"
      ],
      "execution_count": 0,
      "outputs": []
    },
    {
      "metadata": {
        "id": "BLn2ukmhd44s",
        "colab_type": "code",
        "outputId": "eb794973-726c-4694-a6af-f34cc636c031",
        "colab": {
          "base_uri": "https://localhost:8080/",
          "height": 6103
        }
      },
      "cell_type": "code",
      "source": [
        "data_final.info(verbose=True)"
      ],
      "execution_count": 410,
      "outputs": [
        {
          "output_type": "stream",
          "text": [
            "<class 'pandas.core.frame.DataFrame'>\n",
            "Int64Index: 4375 entries, 0 to 4386\n",
            "Data columns (total 353 columns):\n",
            "subject                object\n",
            "price                  float64\n",
            "labeled                int64\n",
            "day_of_week_0          uint8\n",
            "day_of_week_1          uint8\n",
            "day_of_week_2          uint8\n",
            "day_of_week_3          uint8\n",
            "day_of_week_4          uint8\n",
            "day_of_week_5          uint8\n",
            "day_of_week_6          uint8\n",
            "hour_0                 uint8\n",
            "hour_1                 uint8\n",
            "hour_2                 uint8\n",
            "hour_3                 uint8\n",
            "hour_4                 uint8\n",
            "hour_5                 uint8\n",
            "hour_6                 uint8\n",
            "hour_7                 uint8\n",
            "hour_8                 uint8\n",
            "hour_9                 uint8\n",
            "hour_10                uint8\n",
            "hour_11                uint8\n",
            "hour_12                uint8\n",
            "hour_13                uint8\n",
            "hour_14                uint8\n",
            "hour_15                uint8\n",
            "hour_16                uint8\n",
            "hour_17                uint8\n",
            "hour_18                uint8\n",
            "hour_19                uint8\n",
            "hour_20                uint8\n",
            "hour_21                uint8\n",
            "hour_22                uint8\n",
            "hour_23                uint8\n",
            "mobile_model_1         uint8\n",
            "mobile_model_2         uint8\n",
            "mobile_model_3         uint8\n",
            "mobile_model_4         uint8\n",
            "mobile_model_5         uint8\n",
            "mobile_model_6         uint8\n",
            "mobile_model_7         uint8\n",
            "mobile_model_8         uint8\n",
            "mobile_model_9         uint8\n",
            "mobile_model_10        uint8\n",
            "mobile_model_11        uint8\n",
            "mobile_model_12        uint8\n",
            "mobile_model_13        uint8\n",
            "mobile_model_14        uint8\n",
            "mobile_model_15        uint8\n",
            "mobile_model_16        uint8\n",
            "mobile_model_17        uint8\n",
            "mobile_model_18        uint8\n",
            "mobile_model_19        uint8\n",
            "mobile_model_20        uint8\n",
            "mobile_model_21        uint8\n",
            "mobile_model_23        uint8\n",
            "mobile_model_24        uint8\n",
            "mobile_model_25        uint8\n",
            "mobile_model_26        uint8\n",
            "mobile_model_27        uint8\n",
            "mobile_model_28        uint8\n",
            "mobile_model_29        uint8\n",
            "mobile_model_31        uint8\n",
            "mobile_model_32        uint8\n",
            "mobile_model_33        uint8\n",
            "mobile_model_34        uint8\n",
            "mobile_model_35        uint8\n",
            "mobile_model_36        uint8\n",
            "mobile_model_37        uint8\n",
            "mobile_model_38        uint8\n",
            "mobile_model_39        uint8\n",
            "mobile_model_40        uint8\n",
            "mobile_model_41        uint8\n",
            "mobile_model_42        uint8\n",
            "mobile_model_43        uint8\n",
            "mobile_model_44        uint8\n",
            "mobile_model_45        uint8\n",
            "mobile_model_46        uint8\n",
            "mobile_model_47        uint8\n",
            "mobile_model_48        uint8\n",
            "mobile_model_49        uint8\n",
            "mobile_model_50        uint8\n",
            "mobile_model_51        uint8\n",
            "mobile_model_52        uint8\n",
            "mobile_model_53        uint8\n",
            "mobile_model_54        uint8\n",
            "mobile_model_56        uint8\n",
            "mobile_model_57        uint8\n",
            "mobile_model_58        uint8\n",
            "mobile_model_59        uint8\n",
            "mobile_model_60        uint8\n",
            "mobile_model_61        uint8\n",
            "mobile_model_62        uint8\n",
            "mobile_model_63        uint8\n",
            "mobile_model_64        uint8\n",
            "mobile_model_65        uint8\n",
            "mobile_model_66        uint8\n",
            "mobile_model_67        uint8\n",
            "mobile_model_72        uint8\n",
            "mobile_model_73        uint8\n",
            "mobile_model_74        uint8\n",
            "mobile_model_75        uint8\n",
            "mobile_model_76        uint8\n",
            "mobile_model_77        uint8\n",
            "mobile_model_80        uint8\n",
            "mobile_model_85        uint8\n",
            "mobile_model_87        uint8\n",
            "mobile_model_88        uint8\n",
            "mobile_model_89        uint8\n",
            "mobile_model_90        uint8\n",
            "mobile_model_94        uint8\n",
            "mobile_model_97        uint8\n",
            "mobile_model_100       uint8\n",
            "mobile_model_101       uint8\n",
            "mobile_model_104       uint8\n",
            "mobile_model_105       uint8\n",
            "mobile_model_107       uint8\n",
            "mobile_model_113       uint8\n",
            "mobile_model_114       uint8\n",
            "mobile_model_115       uint8\n",
            "mobile_model_116       uint8\n",
            "mobile_model_117       uint8\n",
            "mobile_model_118       uint8\n",
            "mobile_model_119       uint8\n",
            "mobile_model_120       uint8\n",
            "mobile_model_121       uint8\n",
            "mobile_model_123       uint8\n",
            "mobile_model_127       uint8\n",
            "mobile_model_132       uint8\n",
            "mobile_model_137       uint8\n",
            "mobile_model_138       uint8\n",
            "mobile_model_139       uint8\n",
            "mobile_model_140       uint8\n",
            "mobile_model_141       uint8\n",
            "mobile_model_142       uint8\n",
            "mobile_model_143       uint8\n",
            "mobile_model_144       uint8\n",
            "mobile_model_146       uint8\n",
            "mobile_model_147       uint8\n",
            "mobile_model_148       uint8\n",
            "mobile_model_149       uint8\n",
            "mobile_model_150       uint8\n",
            "mobile_model_151       uint8\n",
            "mobile_model_152       uint8\n",
            "mobile_model_153       uint8\n",
            "mobile_model_154       uint8\n",
            "mobile_model_155       uint8\n",
            "mobile_model_156       uint8\n",
            "mobile_model_157       uint8\n",
            "mobile_model_158       uint8\n",
            "mobile_model_159       uint8\n",
            "mobile_model_160       uint8\n",
            "mobile_model_161       uint8\n",
            "mobile_model_162       uint8\n",
            "mobile_model_163       uint8\n",
            "mobile_model_164       uint8\n",
            "mobile_model_165       uint8\n",
            "mobile_model_166       uint8\n",
            "mobile_model_168       uint8\n",
            "mobile_model_169       uint8\n",
            "mobile_model_171       uint8\n",
            "mobile_model_177       uint8\n",
            "mobile_model_185       uint8\n",
            "mobile_model_187       uint8\n",
            "mobile_model_189       uint8\n",
            "mobile_model_190       uint8\n",
            "mobile_model_191       uint8\n",
            "mobile_model_192       uint8\n",
            "mobile_model_196       uint8\n",
            "mobile_model_199       uint8\n",
            "mobile_model_202       uint8\n",
            "mobile_model_203       uint8\n",
            "mobile_model_210       uint8\n",
            "mobile_model_211       uint8\n",
            "mobile_model_212       uint8\n",
            "mobile_model_213       uint8\n",
            "mobile_model_214       uint8\n",
            "mobile_model_215       uint8\n",
            "mobile_model_216       uint8\n",
            "mobile_model_217       uint8\n",
            "mobile_model_218       uint8\n",
            "mobile_model_219       uint8\n",
            "mobile_model_220       uint8\n",
            "mobile_model_221       uint8\n",
            "mobile_model_223       uint8\n",
            "mobile_model_224       uint8\n",
            "mobile_model_226       uint8\n",
            "mobile_model_227       uint8\n",
            "mobile_model_228       uint8\n",
            "mobile_model_229       uint8\n",
            "mobile_model_230       uint8\n",
            "mobile_model_231       uint8\n",
            "mobile_model_233       uint8\n",
            "mobile_model_234       uint8\n",
            "mobile_model_235       uint8\n",
            "mobile_model_236       uint8\n",
            "mobile_model_239       uint8\n",
            "mobile_model_240       uint8\n",
            "mobile_model_241       uint8\n",
            "mobile_model_242       uint8\n",
            "mobile_model_243       uint8\n",
            "mobile_model_244       uint8\n",
            "mobile_model_248       uint8\n",
            "mobile_model_257       uint8\n",
            "mobile_model_261       uint8\n",
            "mobile_model_263       uint8\n",
            "mobile_model_275       uint8\n",
            "mobile_model_280       uint8\n",
            "mobile_model_281       uint8\n",
            "mobile_model_282       uint8\n",
            "mobile_model_283       uint8\n",
            "mobile_model_284       uint8\n",
            "mobile_model_285       uint8\n",
            "mobile_model_286       uint8\n",
            "mobile_model_287       uint8\n",
            "mobile_model_288       uint8\n",
            "mobile_model_289       uint8\n",
            "mobile_model_290       uint8\n",
            "mobile_model_292       uint8\n",
            "mobile_model_293       uint8\n",
            "mobile_model_294       uint8\n",
            "mobile_model_295       uint8\n",
            "mobile_model_297       uint8\n",
            "mobile_model_298       uint8\n",
            "mobile_model_299       uint8\n",
            "mobile_model_300       uint8\n",
            "mobile_model_302       uint8\n",
            "mobile_model_303       uint8\n",
            "mobile_model_304       uint8\n",
            "mobile_model_310       uint8\n",
            "mobile_model_311       uint8\n",
            "mobile_model_313       uint8\n",
            "mobile_model_314       uint8\n",
            "mobile_model_315       uint8\n",
            "mobile_model_316       uint8\n",
            "mobile_model_317       uint8\n",
            "mobile_model_318       uint8\n",
            "mobile_model_319       uint8\n",
            "mobile_model_320       uint8\n",
            "mobile_model_321       uint8\n",
            "mobile_model_322       uint8\n",
            "mobile_model_323       uint8\n",
            "mobile_model_324       uint8\n",
            "mobile_model_325       uint8\n",
            "mobile_model_346       uint8\n",
            "mobile_model_347       uint8\n",
            "mobile_model_348       uint8\n",
            "mobile_model_349       uint8\n",
            "mobile_model_350       uint8\n",
            "mobile_model_351       uint8\n",
            "mobile_model_353       uint8\n",
            "mobile_model_357       uint8\n",
            "mobile_model_359       uint8\n",
            "mobile_model_363       uint8\n",
            "mobile_model_368       uint8\n",
            "mobile_model_369       uint8\n",
            "mobile_model_370       uint8\n",
            "mobile_model_374       uint8\n",
            "mobile_model_375       uint8\n",
            "mobile_model_376       uint8\n",
            "mobile_model_377       uint8\n",
            "mobile_model_378       uint8\n",
            "mobile_model_379       uint8\n",
            "mobile_model_380       uint8\n",
            "mobile_model_381       uint8\n",
            "mobile_model_382       uint8\n",
            "mobile_model_383       uint8\n",
            "mobile_model_384       uint8\n",
            "mobile_model_385       uint8\n",
            "mobile_model_386       uint8\n",
            "mobile_model_387       uint8\n",
            "mobile_model_389       uint8\n",
            "mobile_model_390       uint8\n",
            "mobile_model_404       uint8\n",
            "mobile_model_410       uint8\n",
            "mobile_model_411       uint8\n",
            "mobile_model_412       uint8\n",
            "mobile_model_416       uint8\n",
            "mobile_model_420       uint8\n",
            "mobile_model_422       uint8\n",
            "mobile_model_437       uint8\n",
            "mobile_model_442       uint8\n",
            "mobile_model_443       uint8\n",
            "mobile_model_446       uint8\n",
            "mobile_model_447       uint8\n",
            "mobile_model_448       uint8\n",
            "mobile_model_479       uint8\n",
            "mobile_model_572       uint8\n",
            "mobile_model_573       uint8\n",
            "mobile_model_575       uint8\n",
            "mobile_model_576       uint8\n",
            "mobile_model_577       uint8\n",
            "mobile_model_584       uint8\n",
            "mobile_model_585       uint8\n",
            "mobile_model_587       uint8\n",
            "mobile_model_588       uint8\n",
            "mobile_model_589       uint8\n",
            "mobile_model_590       uint8\n",
            "mobile_model_591       uint8\n",
            "mobile_model_592       uint8\n",
            "mobile_model_593       uint8\n",
            "mobile_model_594       uint8\n",
            "mobile_model_595       uint8\n",
            "mobile_model_596       uint8\n",
            "mobile_model_598       uint8\n",
            "mobile_model_599       uint8\n",
            "mobile_model_600       uint8\n",
            "mobile_model_601       uint8\n",
            "mobile_model_602       uint8\n",
            "mobile_model_605       uint8\n",
            "mobile_model_606       uint8\n",
            "mobile_model_607       uint8\n",
            "mobile_model_609       uint8\n",
            "mobile_model_610       uint8\n",
            "mobile_model_611       uint8\n",
            "mobile_model_613       uint8\n",
            "mobile_model_615       uint8\n",
            "mobile_model_617       uint8\n",
            "condition_ad_0.0       uint8\n",
            "condition_ad_1.0       uint8\n",
            "condition_ad_2.0       uint8\n",
            "mobile_capacity_0.0    uint8\n",
            "mobile_capacity_1.0    uint8\n",
            "mobile_capacity_2.0    uint8\n",
            "mobile_capacity_3.0    uint8\n",
            "mobile_capacity_4.0    uint8\n",
            "mobile_capacity_5.0    uint8\n",
            "mobile_capacity_6.0    uint8\n",
            "mobile_capacity_7.0    uint8\n",
            "mobile_capacity_8.0    uint8\n",
            "area_96                uint8\n",
            "area_97                uint8\n",
            "area_98                uint8\n",
            "area_99                uint8\n",
            "area_100               uint8\n",
            "area_101               uint8\n",
            "area_102               uint8\n",
            "area_103               uint8\n",
            "area_104               uint8\n",
            "area_105               uint8\n",
            "area_106               uint8\n",
            "area_107               uint8\n",
            "area_108               uint8\n",
            "area_109               uint8\n",
            "area_110               uint8\n",
            "area_111               uint8\n",
            "area_112               uint8\n",
            "area_113               uint8\n",
            "area_114               uint8\n",
            "area_115               uint8\n",
            "area_116               uint8\n",
            "area_117               uint8\n",
            "area_118               uint8\n",
            "dtypes: float64(1), int64(1), object(1), uint8(350)\n",
            "memory usage: 1.8+ MB\n"
          ],
          "name": "stdout"
        }
      ]
    },
    {
      "metadata": {
        "id": "SszNKHv0Gh_k",
        "colab_type": "code",
        "outputId": "188e5e0b-52d2-44cb-d3cd-870a42f9aaa0",
        "colab": {
          "base_uri": "https://localhost:8080/",
          "height": 34
        }
      },
      "cell_type": "code",
      "source": [
        "data[data['mobile_model'] == 213].shape"
      ],
      "execution_count": 411,
      "outputs": [
        {
          "output_type": "execute_result",
          "data": {
            "text/plain": [
              "(162, 9)"
            ]
          },
          "metadata": {
            "tags": []
          },
          "execution_count": 411
        }
      ]
    },
    {
      "metadata": {
        "id": "A1NM7n0iIONs",
        "colab_type": "text"
      },
      "cell_type": "markdown",
      "source": [
        "# Prepare For Trainging"
      ]
    },
    {
      "metadata": {
        "id": "x47A5bfzIaiG",
        "colab_type": "text"
      },
      "cell_type": "markdown",
      "source": [
        "**Prepare Train Test Dataset**"
      ]
    },
    {
      "metadata": {
        "id": "wi4bljrUutEA",
        "colab_type": "code",
        "colab": {}
      },
      "cell_type": "code",
      "source": [
        "#data = data_final.drop(columns=['subject'])\n",
        "pos = data_final.columns.get_loc('labeled')\n",
        "y = data_final['labeled']\n",
        "X = data_final.iloc[:, :pos].join(data_final.iloc[:, pos + 1:])\n",
        "\n",
        "X_train, X_test, y_train, y_test = train_test_split(X, y, test_size=0.3)"
      ],
      "execution_count": 0,
      "outputs": []
    },
    {
      "metadata": {
        "id": "iNMXNJCWihYv",
        "colab_type": "code",
        "outputId": "0f2244ea-bcd8-4fe0-9093-d7f3f3b4096c",
        "colab": {
          "base_uri": "https://localhost:8080/",
          "height": 661
        }
      },
      "cell_type": "code",
      "source": [
        "X_train.head()"
      ],
      "execution_count": 413,
      "outputs": [
        {
          "output_type": "execute_result",
          "data": {
            "text/html": [
              "<div>\n",
              "<style scoped>\n",
              "    .dataframe tbody tr th:only-of-type {\n",
              "        vertical-align: middle;\n",
              "    }\n",
              "\n",
              "    .dataframe tbody tr th {\n",
              "        vertical-align: top;\n",
              "    }\n",
              "\n",
              "    .dataframe thead th {\n",
              "        text-align: right;\n",
              "    }\n",
              "</style>\n",
              "<table border=\"1\" class=\"dataframe\">\n",
              "  <thead>\n",
              "    <tr style=\"text-align: right;\">\n",
              "      <th></th>\n",
              "      <th>subject</th>\n",
              "      <th>price</th>\n",
              "      <th>day_of_week_0</th>\n",
              "      <th>day_of_week_1</th>\n",
              "      <th>day_of_week_2</th>\n",
              "      <th>day_of_week_3</th>\n",
              "      <th>day_of_week_4</th>\n",
              "      <th>day_of_week_5</th>\n",
              "      <th>day_of_week_6</th>\n",
              "      <th>hour_0</th>\n",
              "      <th>...</th>\n",
              "      <th>area_109</th>\n",
              "      <th>area_110</th>\n",
              "      <th>area_111</th>\n",
              "      <th>area_112</th>\n",
              "      <th>area_113</th>\n",
              "      <th>area_114</th>\n",
              "      <th>area_115</th>\n",
              "      <th>area_116</th>\n",
              "      <th>area_117</th>\n",
              "      <th>area_118</th>\n",
              "    </tr>\n",
              "  </thead>\n",
              "  <tbody>\n",
              "    <tr>\n",
              "      <th>825</th>\n",
              "      <td>Sony Xperia Z5 Zin Mới 99% Chống Nước</td>\n",
              "      <td>2750000.0</td>\n",
              "      <td>0</td>\n",
              "      <td>0</td>\n",
              "      <td>0</td>\n",
              "      <td>0</td>\n",
              "      <td>0</td>\n",
              "      <td>0</td>\n",
              "      <td>1</td>\n",
              "      <td>0</td>\n",
              "      <td>...</td>\n",
              "      <td>0</td>\n",
              "      <td>0</td>\n",
              "      <td>0</td>\n",
              "      <td>0</td>\n",
              "      <td>0</td>\n",
              "      <td>1</td>\n",
              "      <td>0</td>\n",
              "      <td>0</td>\n",
              "      <td>0</td>\n",
              "      <td>0</td>\n",
              "    </tr>\n",
              "    <tr>\n",
              "      <th>1597</th>\n",
              "      <td>Samsung Galaxy J7 Plus 64 GB Đen</td>\n",
              "      <td>3600000.0</td>\n",
              "      <td>1</td>\n",
              "      <td>0</td>\n",
              "      <td>0</td>\n",
              "      <td>0</td>\n",
              "      <td>0</td>\n",
              "      <td>0</td>\n",
              "      <td>0</td>\n",
              "      <td>0</td>\n",
              "      <td>...</td>\n",
              "      <td>0</td>\n",
              "      <td>0</td>\n",
              "      <td>0</td>\n",
              "      <td>0</td>\n",
              "      <td>0</td>\n",
              "      <td>0</td>\n",
              "      <td>0</td>\n",
              "      <td>0</td>\n",
              "      <td>0</td>\n",
              "      <td>0</td>\n",
              "    </tr>\n",
              "    <tr>\n",
              "      <th>2995</th>\n",
              "      <td>TP Link Neffos C5 max cấu hình ngon giá tốt</td>\n",
              "      <td>850000.0</td>\n",
              "      <td>0</td>\n",
              "      <td>0</td>\n",
              "      <td>0</td>\n",
              "      <td>0</td>\n",
              "      <td>0</td>\n",
              "      <td>1</td>\n",
              "      <td>0</td>\n",
              "      <td>0</td>\n",
              "      <td>...</td>\n",
              "      <td>1</td>\n",
              "      <td>0</td>\n",
              "      <td>0</td>\n",
              "      <td>0</td>\n",
              "      <td>0</td>\n",
              "      <td>0</td>\n",
              "      <td>0</td>\n",
              "      <td>0</td>\n",
              "      <td>0</td>\n",
              "      <td>0</td>\n",
              "    </tr>\n",
              "    <tr>\n",
              "      <th>3696</th>\n",
              "      <td>Samsung Galaxy S9 Plus Xanh dương 64 GB</td>\n",
              "      <td>18000000.0</td>\n",
              "      <td>0</td>\n",
              "      <td>1</td>\n",
              "      <td>0</td>\n",
              "      <td>0</td>\n",
              "      <td>0</td>\n",
              "      <td>0</td>\n",
              "      <td>0</td>\n",
              "      <td>0</td>\n",
              "      <td>...</td>\n",
              "      <td>0</td>\n",
              "      <td>0</td>\n",
              "      <td>0</td>\n",
              "      <td>0</td>\n",
              "      <td>0</td>\n",
              "      <td>0</td>\n",
              "      <td>0</td>\n",
              "      <td>0</td>\n",
              "      <td>0</td>\n",
              "      <td>0</td>\n",
              "    </tr>\n",
              "    <tr>\n",
              "      <th>3030</th>\n",
              "      <td>Iphone 7 Plus 128G Red Quốc Tế Mới 99%</td>\n",
              "      <td>10800000.0</td>\n",
              "      <td>0</td>\n",
              "      <td>0</td>\n",
              "      <td>0</td>\n",
              "      <td>1</td>\n",
              "      <td>0</td>\n",
              "      <td>0</td>\n",
              "      <td>0</td>\n",
              "      <td>0</td>\n",
              "      <td>...</td>\n",
              "      <td>0</td>\n",
              "      <td>0</td>\n",
              "      <td>0</td>\n",
              "      <td>0</td>\n",
              "      <td>0</td>\n",
              "      <td>0</td>\n",
              "      <td>0</td>\n",
              "      <td>0</td>\n",
              "      <td>0</td>\n",
              "      <td>0</td>\n",
              "    </tr>\n",
              "  </tbody>\n",
              "</table>\n",
              "<p>5 rows × 352 columns</p>\n",
              "</div>"
            ],
            "text/plain": [
              "                                          subject       price  day_of_week_0  \\\n",
              "825         Sony Xperia Z5 Zin Mới 99% Chống Nước   2750000.0              0   \n",
              "1597             Samsung Galaxy J7 Plus 64 GB Đen   3600000.0              1   \n",
              "2995  TP Link Neffos C5 max cấu hình ngon giá tốt    850000.0              0   \n",
              "3696      Samsung Galaxy S9 Plus Xanh dương 64 GB  18000000.0              0   \n",
              "3030       Iphone 7 Plus 128G Red Quốc Tế Mới 99%  10800000.0              0   \n",
              "\n",
              "      day_of_week_1  day_of_week_2  day_of_week_3  day_of_week_4  \\\n",
              "825               0              0              0              0   \n",
              "1597              0              0              0              0   \n",
              "2995              0              0              0              0   \n",
              "3696              1              0              0              0   \n",
              "3030              0              0              1              0   \n",
              "\n",
              "      day_of_week_5  day_of_week_6  hour_0    ...     area_109  area_110  \\\n",
              "825               0              1       0    ...            0         0   \n",
              "1597              0              0       0    ...            0         0   \n",
              "2995              1              0       0    ...            1         0   \n",
              "3696              0              0       0    ...            0         0   \n",
              "3030              0              0       0    ...            0         0   \n",
              "\n",
              "      area_111  area_112  area_113  area_114  area_115  area_116  area_117  \\\n",
              "825          0         0         0         1         0         0         0   \n",
              "1597         0         0         0         0         0         0         0   \n",
              "2995         0         0         0         0         0         0         0   \n",
              "3696         0         0         0         0         0         0         0   \n",
              "3030         0         0         0         0         0         0         0   \n",
              "\n",
              "      area_118  \n",
              "825          0  \n",
              "1597         0  \n",
              "2995         0  \n",
              "3696         0  \n",
              "3030         0  \n",
              "\n",
              "[5 rows x 352 columns]"
            ]
          },
          "metadata": {
            "tags": []
          },
          "execution_count": 413
        }
      ]
    },
    {
      "metadata": {
        "id": "2A4rwbVOPq6K",
        "colab_type": "text"
      },
      "cell_type": "markdown",
      "source": [
        "**Clean up Text data**"
      ]
    },
    {
      "metadata": {
        "id": "N5zgz1V3UtKW",
        "colab_type": "code",
        "colab": {}
      },
      "cell_type": "code",
      "source": [
        "from urllib.request import urlopen\n",
        "response = urlopen('https://raw.githubusercontent.com/stopwords/vietnamese-stopwords/master/vietnamese-stopwords.txt')\n",
        "stopwords = response.read()\n",
        "stopwords = stopwords.decode('utf8').split('\\n')"
      ],
      "execution_count": 0,
      "outputs": []
    },
    {
      "metadata": {
        "id": "AbUVkjEwPjJk",
        "colab_type": "code",
        "colab": {}
      },
      "cell_type": "code",
      "source": [
        "import re\n",
        "from bs4 import BeautifulSoup\n",
        "\n",
        "def clean_up_text(raw_text):\n",
        "  # 1. Remove HTML\n",
        "  raw_text = BeautifulSoup(raw_text).get_text()\n",
        "  # 2. Remove all speccial character only keep %\n",
        "  letters_only = re.sub(\"([^a-z0-9A-Z À-ỹ%])\", \" \", raw_text)\n",
        "  #letters_only = re.sub(\"\\w*\\d\\w*\", \"\", letters_only)\n",
        "  # 3. Remove % if it doesn't stand right after a number.\n",
        "  # 4. Convert to lower case and split into individual words\n",
        "  words = letters_only.lower().split()\n",
        "  # 5. Remove stop words\n",
        "  meanful_words = [w for w in words if w not in stopwords]\n",
        "  # 6. Join the words back into one string separated by space and return the \n",
        "  # result\n",
        "  return (\" \").join(meanful_words)"
      ],
      "execution_count": 0,
      "outputs": []
    },
    {
      "metadata": {
        "id": "Yb_S0lH2qb8X",
        "colab_type": "code",
        "colab": {}
      },
      "cell_type": "code",
      "source": [
        "clean_train_subjects = []\n",
        "for text in X_train['subject']:\n",
        "  clean_train_subjects.append(clean_up_text(text))\n",
        "X_train = X_train.drop(columns=['subject'])"
      ],
      "execution_count": 0,
      "outputs": []
    },
    {
      "metadata": {
        "id": "26yjJe8sMGVX",
        "colab_type": "code",
        "colab": {}
      },
      "cell_type": "code",
      "source": [
        "clean_test_subjects = []\n",
        "for text in X_test['subject']:\n",
        "  clean_test_subjects.append(clean_up_text(text))\n",
        "X_test = X_test.drop(columns=['subject'])"
      ],
      "execution_count": 0,
      "outputs": []
    },
    {
      "metadata": {
        "id": "BeRGziaVqC7A",
        "colab_type": "text"
      },
      "cell_type": "markdown",
      "source": [
        "**Craete Features from TFIDF**"
      ]
    },
    {
      "metadata": {
        "id": "tRBoB7SopqyH",
        "colab_type": "code",
        "colab": {}
      },
      "cell_type": "code",
      "source": [
        "tfidf = TfidfVectorizer(stop_words=None,\n",
        "                        tokenizer=None,\n",
        "                        preprocessor=None, \n",
        "                        analyzer = 'word',\n",
        "                        max_features = 5000)"
      ],
      "execution_count": 0,
      "outputs": []
    },
    {
      "metadata": {
        "id": "FZw3GTjFqMMv",
        "colab_type": "code",
        "colab": {}
      },
      "cell_type": "code",
      "source": [
        "train_data_features = tfidf.fit_transform(clean_train_subjects)"
      ],
      "execution_count": 0,
      "outputs": []
    },
    {
      "metadata": {
        "id": "Hf6kyDBgL3YH",
        "colab_type": "code",
        "colab": {}
      },
      "cell_type": "code",
      "source": [
        "test_data_features = tfidf.transform(clean_test_subjects)"
      ],
      "execution_count": 0,
      "outputs": []
    },
    {
      "metadata": {
        "id": "gXPwow5i8aGq",
        "colab_type": "code",
        "colab": {}
      },
      "cell_type": "code",
      "source": [
        "X_train = np.append(X_train.values, train_data_features.toarray(), axis=1)"
      ],
      "execution_count": 0,
      "outputs": []
    },
    {
      "metadata": {
        "id": "Mul9y8M8Mdb5",
        "colab_type": "code",
        "colab": {}
      },
      "cell_type": "code",
      "source": [
        "X_test = np.append(X_test.values, test_data_features.toarray(), axis=1)"
      ],
      "execution_count": 0,
      "outputs": []
    },
    {
      "metadata": {
        "id": "ML3KlBiVPZ8f",
        "colab_type": "text"
      },
      "cell_type": "markdown",
      "source": [
        "# Trainging"
      ]
    },
    {
      "metadata": {
        "id": "uP-P6DfG-o03",
        "colab_type": "code",
        "outputId": "c4a0cf5e-d32b-4b53-8acf-60c89fff9f0d",
        "colab": {
          "base_uri": "https://localhost:8080/",
          "height": 136
        }
      },
      "cell_type": "code",
      "source": [
        "#clf = LogisticRegression(C=1e5, solver='lbfgs', multi_class='multinomial')\n",
        "#clf.fit(X_train, y_train)\n",
        "forest = RandomForestClassifier(n_estimators = 200) \n",
        "forest.fit(X_train, y_train)"
      ],
      "execution_count": 423,
      "outputs": [
        {
          "output_type": "execute_result",
          "data": {
            "text/plain": [
              "RandomForestClassifier(bootstrap=True, class_weight=None, criterion='gini',\n",
              "            max_depth=None, max_features='auto', max_leaf_nodes=None,\n",
              "            min_impurity_decrease=0.0, min_impurity_split=None,\n",
              "            min_samples_leaf=1, min_samples_split=2,\n",
              "            min_weight_fraction_leaf=0.0, n_estimators=200, n_jobs=None,\n",
              "            oob_score=False, random_state=None, verbose=0,\n",
              "            warm_start=False)"
            ]
          },
          "metadata": {
            "tags": []
          },
          "execution_count": 423
        }
      ]
    },
    {
      "metadata": {
        "id": "GmA-08opCwBP",
        "colab_type": "code",
        "outputId": "3b5128b2-2d9b-45fe-c45a-dd78495aad69",
        "colab": {
          "base_uri": "https://localhost:8080/",
          "height": 34
        }
      },
      "cell_type": "code",
      "source": [
        "X_train.shape"
      ],
      "execution_count": 424,
      "outputs": [
        {
          "output_type": "execute_result",
          "data": {
            "text/plain": [
              "(3062, 2114)"
            ]
          },
          "metadata": {
            "tags": []
          },
          "execution_count": 424
        }
      ]
    },
    {
      "metadata": {
        "id": "jl2Kakq1-s6P",
        "colab_type": "code",
        "colab": {}
      },
      "cell_type": "code",
      "source": [
        "#predictions = clf.predict(X_test)\n",
        "predictions = forest.predict(X_test)"
      ],
      "execution_count": 0,
      "outputs": []
    },
    {
      "metadata": {
        "id": "UTSlvN04VTR6",
        "colab_type": "code",
        "outputId": "ff60bc27-c235-4261-af2b-e7ea926d70f1",
        "colab": {
          "base_uri": "https://localhost:8080/",
          "height": 34
        }
      },
      "cell_type": "code",
      "source": [
        "accuracy_score(y_test, predictions)"
      ],
      "execution_count": 426,
      "outputs": [
        {
          "output_type": "execute_result",
          "data": {
            "text/plain": [
              "0.6191926884996192"
            ]
          },
          "metadata": {
            "tags": []
          },
          "execution_count": 426
        }
      ]
    },
    {
      "metadata": {
        "id": "sq6Vl06zWMEl",
        "colab_type": "code",
        "outputId": "adf444e3-a5ec-4ba7-8fbb-0c175696fb7a",
        "colab": {
          "base_uri": "https://localhost:8080/",
          "height": 299
        }
      },
      "cell_type": "code",
      "source": [
        "print ('Accuracy:', accuracy_score(y_test, predictions))\n",
        "cm = confusion_matrix(y_test, predictions)\n",
        "sns.heatmap(cm, annot=True, fmt=\"d\", cmap=\"YlGnBu\")"
      ],
      "execution_count": 427,
      "outputs": [
        {
          "output_type": "stream",
          "text": [
            "Accuracy: 0.6191926884996192\n"
          ],
          "name": "stdout"
        },
        {
          "output_type": "execute_result",
          "data": {
            "text/plain": [
              "<matplotlib.axes._subplots.AxesSubplot at 0x7f9f9bfff8d0>"
            ]
          },
          "metadata": {
            "tags": []
          },
          "execution_count": 427
        },
        {
          "output_type": "display_data",
          "data": {
            "image/png": "[encoded data removed]",
            "text/plain": [
              "<Figure size 432x288 with 2 Axes>"
            ]
          },
          "metadata": {
            "tags": []
          }
        }
      ]
    },
    {
      "metadata": {
        "id": "SLvjzzXef1Ry",
        "colab_type": "code",
        "colab": {}
      },
      "cell_type": "code",
      "source": [
        ""
      ],
      "execution_count": 0,
      "outputs": []
    }
  ]
}